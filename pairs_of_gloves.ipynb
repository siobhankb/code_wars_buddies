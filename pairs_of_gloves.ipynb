{
 "cells": [
  {
   "cell_type": "code",
   "execution_count": null,
   "id": "0085bde5",
   "metadata": {},
   "outputs": [],
   "source": [
    "Pair of gloves\n",
    "Winter is coming, you must prepare your ski holidays. The objective of this kata is to determine the number of pair of gloves you can constitute from the gloves you have in your drawer.\n",
    "\n",
    "Given an array describing the color of each glove, return the number of pairs you can constitute, assuming that only gloves of the same color can form pairs.\n",
    "\n",
    "Examples:\n",
    "input = [\"red\", \"green\", \"red\", \"blue\", \"blue\"]\n",
    "result = 2 (1 red pair + 1 blue pair)\n",
    "\n",
    "input = [\"red\", \"red\", \"red\", \"red\", \"red\", \"red\"]\n",
    "result = 3 (3 red pairs)"
   ]
  },
  {
   "cell_type": "code",
   "execution_count": null,
   "id": "c0f5f1cc",
   "metadata": {},
   "outputs": [],
   "source": [
    "def number_of_pairs(gloves):\n",
    "    for color in gloves:\n",
    "        print(gloves.count)"
   ]
  },
  {
   "cell_type": "code",
   "execution_count": null,
   "id": "cb2cf3a6",
   "metadata": {},
   "outputs": [],
   "source": [
    "def number_of_pairs(gloves):\n",
    "    check_set = set()\n",
    "    for color in gloves:\n",
    "        if color not in check_set:\n",
    "            check_set.add(color)\n",
    "            print(gloves.count())"
   ]
  },
  {
   "cell_type": "code",
   "execution_count": null,
   "id": "324ffd45",
   "metadata": {},
   "outputs": [],
   "source": [
    "def number_of_pairs(gloves):\n",
    "    check_set = set()\n",
    "    for color in gloves:\n",
    "        if color not in check_set:\n",
    "            check_set.add(color)\n",
    "            print((gloves.count(color) // 2)"
   ]
  },
  {
   "cell_type": "code",
   "execution_count": null,
   "id": "011a57a0",
   "metadata": {},
   "outputs": [],
   "source": [
    "def number_of_pairs(gloves):\n",
    "    check_set = set()\n",
    "    num_pairs = 0\n",
    "    for color in gloves:\n",
    "        if color not in check_set:\n",
    "            check_set.add(color)\n",
    "            num_pairs += gloves.count(color) // 2\n",
    "            print(num_pairs)"
   ]
  },
  {
   "cell_type": "code",
   "execution_count": 24,
   "id": "a485bf15",
   "metadata": {},
   "outputs": [],
   "source": [
    "def number_of_pairs(gloves):\n",
    "    check_set = set()\n",
    "    num_pairs = 0\n",
    "    for color in gloves:\n",
    "        if color not in check_set:\n",
    "            check_set.add(color)\n",
    "            num_pairs += (gloves.count(color) // 2)\n",
    "    return num_pairs"
   ]
  },
  {
   "cell_type": "code",
   "execution_count": 28,
   "id": "eaff8be8",
   "metadata": {},
   "outputs": [
    {
     "name": "stdout",
     "output_type": "stream",
     "text": [
      "5\n"
     ]
    }
   ],
   "source": [
    "gloves = [\"red\", \"red\", \"red\", \"red\", \"red\", \"red\", \"red\", \"red\", \"black\", \"black\"]\n",
    "print(number_of_pairs(gloves))"
   ]
  },
  {
   "cell_type": "code",
   "execution_count": null,
   "id": "678eaf6c",
   "metadata": {},
   "outputs": [],
   "source": [
    "from collections import Counter\n",
    "\n",
    "def number_of_pairs(gloves):\n",
    "    return sum(c // 2 for c in Counter(gloves).values())"
   ]
  },
  {
   "cell_type": "code",
   "execution_count": null,
   "id": "ef88f8da",
   "metadata": {},
   "outputs": [],
   "source": [
    "def number_of_pairs(gloves):\n",
    "    return sum(gloves.count(color)//2 for color in set(gloves))"
   ]
  },
  {
   "cell_type": "code",
   "execution_count": null,
   "id": "a91fff92",
   "metadata": {},
   "outputs": [],
   "source": []
  },
  {
   "cell_type": "code",
   "execution_count": null,
   "id": "3519b673",
   "metadata": {},
   "outputs": [],
   "source": []
  },
  {
   "cell_type": "code",
   "execution_count": null,
   "id": "ec0da0f8",
   "metadata": {},
   "outputs": [],
   "source": []
  },
  {
   "cell_type": "code",
   "execution_count": null,
   "id": "d7e166b0",
   "metadata": {},
   "outputs": [],
   "source": []
  },
  {
   "cell_type": "code",
   "execution_count": 1,
   "id": "83f49b9e",
   "metadata": {},
   "outputs": [],
   "source": [
    "def number_of_pairs(gloves):\n",
    "    print(gloves.count())"
   ]
  },
  {
   "cell_type": "code",
   "execution_count": 2,
   "id": "0db82fd4",
   "metadata": {},
   "outputs": [
    {
     "ename": "TypeError",
     "evalue": "list.count() takes exactly one argument (0 given)",
     "output_type": "error",
     "traceback": [
      "\u001b[0;31m---------------------------------------------------------------------------\u001b[0m",
      "\u001b[0;31mTypeError\u001b[0m                                 Traceback (most recent call last)",
      "Input \u001b[0;32mIn [2]\u001b[0m, in \u001b[0;36m<cell line: 2>\u001b[0;34m()\u001b[0m\n\u001b[1;32m      1\u001b[0m gloves \u001b[38;5;241m=\u001b[39m [\u001b[38;5;124m\"\u001b[39m\u001b[38;5;124mred\u001b[39m\u001b[38;5;124m\"\u001b[39m, \u001b[38;5;124m\"\u001b[39m\u001b[38;5;124mgreen\u001b[39m\u001b[38;5;124m\"\u001b[39m, \u001b[38;5;124m\"\u001b[39m\u001b[38;5;124mred\u001b[39m\u001b[38;5;124m\"\u001b[39m, \u001b[38;5;124m\"\u001b[39m\u001b[38;5;124mblue\u001b[39m\u001b[38;5;124m\"\u001b[39m, \u001b[38;5;124m\"\u001b[39m\u001b[38;5;124mblue\u001b[39m\u001b[38;5;124m\"\u001b[39m]\n\u001b[0;32m----> 2\u001b[0m \u001b[43mnumber_of_pairs\u001b[49m\u001b[43m(\u001b[49m\u001b[43mgloves\u001b[49m\u001b[43m)\u001b[49m\n",
      "Input \u001b[0;32mIn [1]\u001b[0m, in \u001b[0;36mnumber_of_pairs\u001b[0;34m(gloves)\u001b[0m\n\u001b[1;32m      1\u001b[0m \u001b[38;5;28;01mdef\u001b[39;00m \u001b[38;5;21mnumber_of_pairs\u001b[39m(gloves):\n\u001b[0;32m----> 2\u001b[0m     \u001b[38;5;28mprint\u001b[39m(\u001b[43mgloves\u001b[49m\u001b[38;5;241;43m.\u001b[39;49m\u001b[43mcount\u001b[49m\u001b[43m(\u001b[49m\u001b[43m)\u001b[49m)\n",
      "\u001b[0;31mTypeError\u001b[0m: list.count() takes exactly one argument (0 given)"
     ]
    }
   ],
   "source": [
    "gloves = [\"red\", \"green\", \"red\", \"blue\", \"blue\"]\n",
    "number_of_pairs(gloves)"
   ]
  },
  {
   "cell_type": "code",
   "execution_count": null,
   "id": "3eda9eca",
   "metadata": {},
   "outputs": [],
   "source": []
  }
 ],
 "metadata": {
  "kernelspec": {
   "display_name": "Python 3 (ipykernel)",
   "language": "python",
   "name": "python3"
  },
  "language_info": {
   "codemirror_mode": {
    "name": "ipython",
    "version": 3
   },
   "file_extension": ".py",
   "mimetype": "text/x-python",
   "name": "python",
   "nbconvert_exporter": "python",
   "pygments_lexer": "ipython3",
   "version": "3.9.7"
  }
 },
 "nbformat": 4,
 "nbformat_minor": 5
}
